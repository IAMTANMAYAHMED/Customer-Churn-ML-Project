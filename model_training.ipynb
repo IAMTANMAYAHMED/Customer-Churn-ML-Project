# model_training.ipynb

# Import necessary libraries
from sklearn.linear_model import LogisticRegression
from sklearn.tree import DecisionTreeClassifier
from sklearn.ensemble import RandomForestClassifier
from sklearn.metrics import accuracy_score, confusion_matrix, classification_report, roc_curve, auc
import matplotlib.pyplot as plt
import pandas as pd

# Load preprocessed data
X_train = pd.read_csv('X_train.csv')
X_test = pd.read_csv('X_test.csv')
y_train = pd.read_csv('y_train.csv').values.ravel()
y_test = pd.read_csv('y_test.csv').values.ravel()

# Model 1: Logistic Regression
log_reg = LogisticRegression()
log_reg.fit(X_train, y_train)
y_pred_log = log_reg.predict(X_test)

# Model 2: Decision Tree
dec_tree = DecisionTreeClassifier()
dec_tree.fit(X_train, y_train)
y_pred_tree = dec_tree.predict(X_test)

# Model 3: Random Forest
rand_forest = RandomForestClassifier()
rand_forest.fit(X_train, y_train)
y_pred_forest = rand_forest.predict(X_test)

# Evaluate models
print(f"Logistic Regression Accuracy: {accuracy_score(y_test, y_pred_log)}")
print(f"Decision Tree Accuracy: {accuracy_score(y_test, y_pred_tree)}")
print(f"Random Forest Accuracy: {accuracy_score(y_test, y_pred_forest)}")

# Confusion matrix for Random Forest
print(confusion_matrix(y_test, y_pred_forest))
print(classification_report(y_test, y_pred_forest))

# Plot ROC curve for Random Forest
fpr, tpr, _ = roc_curve(y_test, rand_forest.predict_proba(X_test)[:,1])
roc_auc = auc(fpr, tpr)
plt.figure()
plt.plot(fpr, tpr, label='Random Forest (area = %0.2f)' % roc_auc)
plt.xlabel('False Positive Rate')
plt.ylabel('True Positive Rate')
plt.title('Receiver Operating Characteristic')
plt.legend(loc="lower right")
plt.show()
